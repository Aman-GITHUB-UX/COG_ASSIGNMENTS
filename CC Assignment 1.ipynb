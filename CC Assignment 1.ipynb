{
  "nbformat": 4,
  "nbformat_minor": 0,
  "metadata": {
    "colab": {
      "provenance": []
    },
    "kernelspec": {
      "name": "python3",
      "display_name": "Python 3"
    },
    "language_info": {
      "name": "python"
    }
  },
  "cells": [
    {
      "cell_type": "code",
      "execution_count": 13,
      "metadata": {
        "colab": {
          "base_uri": "https://localhost:8080/"
        },
        "id": "V-_HawQ9FIMc",
        "outputId": "14ed8656-c994-44b4-ae27-8bd17f29fe6c"
      },
      "outputs": [
        {
          "output_type": "stream",
          "name": "stdout",
          "text": [
            "AMAN\n",
            "AMAN\n",
            "AMAN\n"
          ]
        }
      ],
      "source": [
        "#1.1: WAP to print your name three times\n",
        "\n",
        "print(\"AMAN\")\n",
        "print(\"AMAN\")\n",
        "print(\"AMAN\")\n"
      ]
    },
    {
      "cell_type": "code",
      "source": [
        "#2.1:WAP to add three numbers and print the result.\n",
        "\n",
        "a=10\n",
        "b=20\n",
        "c=90\n",
        "print(a+b+c)"
      ],
      "metadata": {
        "colab": {
          "base_uri": "https://localhost:8080/"
        },
        "id": "UNUTaNQqFPCe",
        "outputId": "15f86e20-7c0c-46a3-f971-b099e760a582"
      },
      "execution_count": 2,
      "outputs": [
        {
          "output_type": "stream",
          "name": "stdout",
          "text": [
            "120\n"
          ]
        }
      ]
    },
    {
      "cell_type": "code",
      "source": [
        "#2.2: WAP to concatinate three strings and print the result.\n",
        "\n",
        "a=\"A\"\n",
        "b=\"M\"\n",
        "c=\"AN\"\n",
        "print(a+b+c)"
      ],
      "metadata": {
        "colab": {
          "base_uri": "https://localhost:8080/"
        },
        "id": "DzMd9JTsFPRu",
        "outputId": "aeb89bb6-1a0d-458a-8957-7d6550ba9c44"
      },
      "execution_count": 4,
      "outputs": [
        {
          "output_type": "stream",
          "name": "stdout",
          "text": [
            "AMAN\n"
          ]
        }
      ]
    },
    {
      "cell_type": "code",
      "source": [
        "#4.1: WAP to print the table of 7, 9\n",
        "\n",
        "a=int(input(\"enter the number:\"))  # we can input 7 and 9 respectively\n",
        "for i in range(1,11,1):\n",
        "  print(i*a)"
      ],
      "metadata": {
        "colab": {
          "base_uri": "https://localhost:8080/"
        },
        "id": "9L5nVBldFPUx",
        "outputId": "47956672-dfa8-41f2-bf71-d46629a8b4a1"
      },
      "execution_count": 5,
      "outputs": [
        {
          "output_type": "stream",
          "name": "stdout",
          "text": [
            "enter the number:5\n",
            "5\n",
            "10\n",
            "15\n",
            "20\n",
            "25\n",
            "30\n",
            "35\n",
            "40\n",
            "45\n",
            "50\n"
          ]
        }
      ]
    },
    {
      "cell_type": "code",
      "source": [
        "#4.2: WAP to print the table of n and n is given by user.\n",
        "\n",
        "n=int(input(\"enter the number:\"))\n",
        "for i in range(1,11,1):\n",
        "  print(i*n)"
      ],
      "metadata": {
        "colab": {
          "base_uri": "https://localhost:8080/"
        },
        "id": "ero56n_UFPX0",
        "outputId": "2df3402a-b90e-4bba-e90b-883e34fc0ac9"
      },
      "execution_count": 6,
      "outputs": [
        {
          "output_type": "stream",
          "name": "stdout",
          "text": [
            "enter the number:6\n",
            "6\n",
            "12\n",
            "18\n",
            "24\n",
            "30\n",
            "36\n",
            "42\n",
            "48\n",
            "54\n",
            "60\n"
          ]
        }
      ]
    },
    {
      "cell_type": "code",
      "source": [
        "#4.3: WAP to add all the numbers from 1 to n and n is given by user.\n",
        "\n",
        "n=int(input(\"enter the number:\"))\n",
        "sum=0\n",
        "while n>0:\n",
        "  sum=sum+n\n",
        "  n=n-1\n",
        "print(sum)"
      ],
      "metadata": {
        "colab": {
          "base_uri": "https://localhost:8080/"
        },
        "id": "QhlT0Qr2FPay",
        "outputId": "eb908e77-0fdc-4d97-9076-86e48e872f46"
      },
      "execution_count": 7,
      "outputs": [
        {
          "output_type": "stream",
          "name": "stdout",
          "text": [
            "enter the number:7\n",
            "28\n"
          ]
        }
      ]
    },
    {
      "cell_type": "code",
      "source": [
        "#5.1: WAP to find max amoung three numbers and input from user. [Try max() function]\n",
        "\n",
        "a=int(input(\"enter the first number:\"))\n",
        "b=int(input(\"enter the second number:\"))\n",
        "c=int(input(\"enter the third number:\"))\n",
        "print(max(a,b,c))"
      ],
      "metadata": {
        "colab": {
          "base_uri": "https://localhost:8080/"
        },
        "id": "V26U8RafFPdh",
        "outputId": "d9441514-bfc8-4a1b-93c0-b570b6e91833"
      },
      "execution_count": 8,
      "outputs": [
        {
          "output_type": "stream",
          "name": "stdout",
          "text": [
            "enter the first number:1\n",
            "enter the second number:2\n",
            "enter the third number:3\n",
            "3\n"
          ]
        }
      ]
    },
    {
      "cell_type": "code",
      "source": [
        "#5.2: WAP to add all prime numbers from 1 to n and n is given by the user.\n",
        "\n",
        "\n",
        "n=int(input(\"enter the number:\"))\n",
        "sum=0\n",
        "for i in range(2,n+1): #because 1 is not a prime number\n",
        "  flag=0\n",
        "  for j in range(2,int((i/2)+1)):\n",
        "    if(i%j==0):\n",
        "      flag=1\n",
        "      break\n",
        "\n",
        "  if(flag==0):\n",
        "      sum=sum+i\n",
        "\n",
        "\n",
        "print(sum)"
      ],
      "metadata": {
        "colab": {
          "base_uri": "https://localhost:8080/"
        },
        "id": "KOkVDVnFFPja",
        "outputId": "2b222173-36d8-48a9-85d1-b50fb6173a49"
      },
      "execution_count": 10,
      "outputs": [
        {
          "output_type": "stream",
          "name": "stdout",
          "text": [
            "enter the number:7\n",
            "17\n"
          ]
        }
      ]
    },
    {
      "cell_type": "code",
      "source": [
        "# 6.1\n",
        "\n",
        "def is_prime(num):\n",
        "    if num < 2:\n",
        "        return False\n",
        "    for i in range(2, int(num**0.5) + 1):  # Check divisibility up to sqrt(num)\n",
        "        if num % i == 0:\n",
        "            return False\n",
        "    return True\n",
        "\n",
        "\n",
        "def sum_prime_numbers(n):\n",
        "    total_sum = 0\n",
        "    for i in range(2, n + 1):  # Start at 2 because 1 is not prime\n",
        "        if is_prime(i):\n",
        "            total_sum += i\n",
        "    return total_sum\n",
        "\n",
        "\n",
        "n = int(input(\"Enter the value of n: \"))\n",
        "\n",
        "\n",
        "result = sum_prime_numbers(n)\n",
        "print(\"The sum of all prime numbers from 1 to\", n, \"is:\", result)"
      ],
      "metadata": {
        "colab": {
          "base_uri": "https://localhost:8080/"
        },
        "id": "77dAW6T0FPmW",
        "outputId": "dcda93ef-4e76-46a0-c953-7169cc98386c"
      },
      "execution_count": 11,
      "outputs": [
        {
          "output_type": "stream",
          "name": "stdout",
          "text": [
            "Enter the value of n: 4\n",
            "The sum of all prime numbers from 1 to 4 is: 5\n"
          ]
        }
      ]
    },
    {
      "cell_type": "code",
      "source": [
        "6.2# Function to add all odd numbers from 1 to n\n",
        "def sum_odd_numbers(n):\n",
        "    total_sum = 0\n",
        "    for i in range(1, n + 1, 2):  # Start at 1, step by 2 to get only odd numbers\n",
        "        total_sum += i\n",
        "    return total_sum\n",
        "\n",
        "\n",
        "n = int(input(\"Enter the value of n: \"))\n",
        "\n",
        "\n",
        "result = sum_odd_numbers(n)\n",
        "print(\"The sum of all odd numbers from 1 to\", n, \"is:\", result)"
      ],
      "metadata": {
        "colab": {
          "base_uri": "https://localhost:8080/"
        },
        "id": "ufK2TNhQFPpD",
        "outputId": "2732dbf8-1a03-498d-9a84-925e006616d6"
      },
      "execution_count": 12,
      "outputs": [
        {
          "output_type": "stream",
          "name": "stdout",
          "text": [
            "Enter the value of n: 5\n",
            "The sum of all odd numbers from 1 to 5 is: 9\n"
          ]
        }
      ]
    }
  ]
}
